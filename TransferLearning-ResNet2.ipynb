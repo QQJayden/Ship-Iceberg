{
 "cells": [
  {
   "cell_type": "markdown",
   "metadata": {},
   "source": [
    "# Transfer Learning- Resnet2: 加入angle"
   ]
  },
  {
   "cell_type": "markdown",
   "metadata": {},
   "source": [
    "参考：\n",
    "+ [Basic ResNet50 with composites 0.2502LB](https://www.kaggle.com/jasonbenner/basic-resnet50-with-composites-0-2502lb)\n",
    "+ 另外参考了 Transfer Learning VGG16"
   ]
  },
  {
   "cell_type": "code",
   "execution_count": 1,
   "metadata": {
    "collapsed": true
   },
   "outputs": [],
   "source": [
    "#Mandatory imports\n",
    "import numpy as np\n",
    "import pandas as pd\n",
    "from sklearn.model_selection import train_test_split\n",
    "from sklearn.metrics import log_loss\n",
    "from sklearn.model_selection import StratifiedKFold, StratifiedShuffleSplit\n",
    "from os.path import join as opj\n",
    "from matplotlib import pyplot as plt\n",
    "from mpl_toolkits.mplot3d import Axes3D\n",
    "import pylab\n",
    "from scipy.ndimage.filters import uniform_filter\n",
    "plt.rcParams['figure.figsize'] = 10, 10\n",
    "%matplotlib inline"
   ]
  },
  {
   "cell_type": "code",
   "execution_count": 2,
   "metadata": {},
   "outputs": [
    {
     "name": "stdout",
     "output_type": "stream",
     "text": [
      "done!\n"
     ]
    }
   ],
   "source": [
    "import pandas as pd\n",
    "import numpy as np\n",
    "\n",
    "data_dir = '../ShipIceberg/Data/'\n",
    "\n",
    "def load_data(data_dir):\n",
    "    train = pd.read_json(data_dir + 'train.json')\n",
    "#     test = pd.read_json(data_dir + 'test.json')\n",
    "    import json\n",
    "    with open('../ShipIceberg/Data/test.json', 'r') as f:\n",
    "        test = json.load(f)\n",
    "        test=pd.DataFrame(test)\n",
    "    \n",
    "    print('done!')\n",
    "    '''\n",
    "    #Fill 'na' angles with mode???\n",
    "    train.inc_angle = train.inc_angle.replace('na', 0)\n",
    "    train.inc_angle = train.inc_angle.astype(float).fillna(0.0)\n",
    "    test.inc_angle = test.inc_angle.replace('na', 0)\n",
    "    test.inc_angle = test.inc_angle.astype(float).fillna(0.0)\n",
    "    '''\n",
    "    return train, test\n",
    "\n",
    "train, test = load_data(data_dir)"
   ]
  },
  {
   "cell_type": "code",
   "execution_count": 3,
   "metadata": {
    "collapsed": true
   },
   "outputs": [],
   "source": [
    "target_train=train['is_iceberg']\n",
    "test['inc_angle']=pd.to_numeric(test['inc_angle'], errors='coerce')\n",
    "train['inc_angle']=pd.to_numeric(train['inc_angle'], errors='coerce')#We have only 133 NAs."
   ]
  },
  {
   "cell_type": "code",
   "execution_count": 4,
   "metadata": {},
   "outputs": [
    {
     "data": {
      "text/plain": [
       "39.26554068027211"
      ]
     },
     "execution_count": 4,
     "metadata": {},
     "output_type": "execute_result"
    }
   ],
   "source": [
    "# train['inc_angle'].drop(0.0).mean()"
   ]
  },
  {
   "cell_type": "code",
   "execution_count": null,
   "metadata": {
    "collapsed": true
   },
   "outputs": [],
   "source": [
    "# 缺省值填充方法？？\n",
    "train['inc_angle']=train['inc_angle'].fillna(method='pad')\n",
    "# train.inc_angle = train.inc_angle.astype(float).fillna(0.0)\n",
    "# train['inc_angle']=train['inc_angle'].fillna(train['inc_angle'].mean())\n",
    "X_angle=train['inc_angle']\n",
    "\n",
    "# test['inc_angle']=pd.to_numeric(test['inc_angle'], errors='coerce')\n",
    "# test.inc_angle = test.inc_angle.astype(float).fillna(0.0)\n",
    "# test['inc_angle']=test['inc_angle'].fillna(test['inc_angle'].mean())\n",
    "X_test_angle=test['inc_angle']\n",
    "\n",
    "y_train=train['is_iceberg']"
   ]
  },
  {
   "cell_type": "code",
   "execution_count": null,
   "metadata": {
    "collapsed": true
   },
   "outputs": [],
   "source": [
    "def color_composite(data):\n",
    "    import cv2\n",
    "    w,h = 197,197\n",
    "#     w,h = 224,224\n",
    "    rgb_arrays = []\n",
    "#     !!! \n",
    "    for i, row in data.iterrows():\n",
    "        band_1 = np.array(row['band_1']).reshape(75, 75)\n",
    "        band_2 = np.array(row['band_2']).reshape(75, 75)\n",
    "#         band_3 = band_1 / band_2\n",
    "        band_3 = np.zeros((75,75))\n",
    "        \n",
    "        subt = abs(band_1-band_2)\n",
    "        W1 = subt/subt.max()\n",
    "        W2=1-W1\n",
    "        band_3=W1 * band_1 + W2 * band_2\n",
    "\n",
    "        '''\n",
    "        r = (band_1 + abs(band_1.min())) / np.max((band_1 + abs(band_1.min())))\n",
    "        g = (band_2 + abs(band_2.min())) / np.max((band_2 + abs(band_2.min())))\n",
    "        b = (band_3 + abs(band_3.min())) / np.max((band_3 + abs(band_3.min())))\n",
    "        '''\n",
    "\n",
    "#         rgb = np.dstack((r, g, b))\n",
    "        rgb = np.dstack((band_1, band_2, band_3))\n",
    "        #Add in to resize for resnet50 use 197 x 197\n",
    "        rgb = cv2.resize(rgb, (w,h)).astype(np.float32)\n",
    "        rgb_arrays.append(rgb)\n",
    "    return np.array(rgb_arrays)\n",
    "\n",
    "X_train = color_composite(train)\n",
    "X_test = color_composite(test)"
   ]
  },
  {
   "cell_type": "raw",
   "metadata": {},
   "source": [
    "#Generate the training data\n",
    "X_band_1=np.array([np.array(band).astype(np.float32).reshape(75, 75) for band in train[\"band_1\"]])\n",
    "X_band_2=np.array([np.array(band).astype(np.float32).reshape(75, 75) for band in train[\"band_2\"]])\n",
    "\n",
    "X_band_3 = np.zeros((1604,75,75))\n",
    "for i in range(0,1604):\n",
    "    subt = abs(X_band_1[i]-X_band_2[i])\n",
    "    W1 = subt/subt.max()\n",
    "    W2=1-W1\n",
    "    X_band_3[i]=W1 * X_band_1[i]+W2 * X_band_2[i]\n",
    "\n",
    "\n",
    "\n",
    "\n",
    "#Generate the test data\n",
    "X_band_test_1=np.array([np.array(band).astype(np.float32).reshape(75, 75) for band in test[\"band_1\"]])\n",
    "X_band_test_2=np.array([np.array(band).astype(np.float32).reshape(75, 75) for band in test[\"band_2\"]])\n",
    "\n",
    "X_band_test_3 = np.zeros((8424,75,75))\n",
    "for i in range(0,8424):\n",
    "    subt = abs(X_band_test_1[i]-X_band_test_2[i])\n",
    "    W1 = subt/subt.max()\n",
    "    W2=1-W1\n",
    "    X_band_test_3[i]=W1 * X_band_test_1[i]+W2 * X_band_test_2[i]\n",
    "    "
   ]
  },
  {
   "cell_type": "raw",
   "metadata": {},
   "source": [
    "X_band_1=X_train[0]+40\n",
    "X_band_2=X_train[1]+40\n",
    "X_band_3=X_train[3]+40\n",
    "X_band_test_1=X_test[0]+40\n",
    "X_band_test_2=X_test[1]+40\n",
    "X_band_test_3=X_test[2]+40\n",
    "\n",
    "'''\n",
    "X_band_1=X_band_1+40\n",
    "X_band_2=X_band_2+40\n",
    "X_band_3=X_band_3+40\n",
    "X_band_test_1=X_band_test_1+40\n",
    "X_band_test_2=X_band_test_2+40\n",
    "X_band_test_3=X_band_test_3+40\n",
    "'''\n",
    "\n",
    "NX_band_1=np.zeros_like(X_band_1)\n",
    "NX_band_2=np.zeros_like(X_band_2)\n",
    "NX_band_3=np.zeros_like(X_band_3)\n",
    "NX_band_test_1=np.zeros_like(X_band_test_1)\n",
    "NX_band_test_2=np.zeros_like(X_band_test_2)\n",
    "NX_band_test_3=np.zeros_like(X_band_test_3)\n",
    "\n",
    "for i in range(0,X_band_1.shape[0]):\n",
    "    a=X_band_1[i]\n",
    "    b=X_band_2[i]\n",
    "    c=X_band_3[i]\n",
    "    minlist1=[]\n",
    "    maxlist1=[]\n",
    "    minlist2=[]\n",
    "    maxlist2=[]\n",
    "    minlist3=[]\n",
    "    maxlist3=[]\n",
    "    for j in range(len(a)):\n",
    "        minlist1.append(min(a[j]))\n",
    "        maxlist1.append(max(a[j]))\n",
    "        minlist2.append(min(b[j]))\n",
    "        maxlist2.append(max(b[j]))\n",
    "        minlist3.append(min(b[j]))\n",
    "        maxlist3.append(max(b[j]))\n",
    "\n",
    "    minvalue1=min(minlist1)\n",
    "    maxvalue1=max(maxlist1)\n",
    "    minvalue2=min(minlist2)\n",
    "    maxvalue2=max(maxlist2)\n",
    "    minvalue3=min(minlist3)\n",
    "    maxvalue3=max(maxlist3)\n",
    "    \n",
    "\n",
    "    NX_band_1[i]=((X_band_1[i]-minvalue1)**2/(maxvalue1-minvalue1))+minvalue1\n",
    "    NX_band_2[i]=((X_band_2[i]-minvalue2)**2/(maxvalue2-minvalue2))+minvalue2\n",
    "    NX_band_3[i]=((X_band_3[i]-minvalue3)**2/(maxvalue3-minvalue3))+minvalue3\n",
    "\n",
    "for i in range(0,X_band_test_1.shape[0]):\n",
    "    a=X_band_test_1[i]\n",
    "    b=X_band_test_2[i]\n",
    "    c=X_band_test_3[i]\n",
    "    minlist1=[]\n",
    "    maxlist1=[]\n",
    "    minlist2=[]\n",
    "    maxlist2=[]\n",
    "    minlist3=[]\n",
    "    maxlist3=[]\n",
    "    for j in range(len(a)):\n",
    "        minlist1.append(min(a[j]))\n",
    "        maxlist1.append(max(a[j]))\n",
    "        minlist2.append(min(b[j]))\n",
    "        maxlist2.append(max(b[j]))\n",
    "        minlist3.append(min(b[j]))\n",
    "        maxlist3.append(max(b[j]))\n",
    "\n",
    "    minvalue1=min(minlist1)\n",
    "    maxvalue1=max(maxlist1)\n",
    "    minvalue2=min(minlist2)\n",
    "    maxvalue2=max(maxlist2)\n",
    "    minvalue3=min(minlist3)\n",
    "    maxvalue3=max(maxlist3)\n",
    "\n",
    "    NX_band_test_1[i]=((X_band_test_1[i]-minvalue1)**2/(maxvalue1-minvalue1))+minvalue1\n",
    "    NX_band_test_2[i]=((X_band_test_2[i]-minvalue2)**2/(maxvalue2-minvalue2))+minvalue2\n",
    "    NX_band_test_3[i]=((X_band_test_3[i]-minvalue3)**2/(maxvalue3-minvalue3))+minvalue3\n",
    "\n",
    "X_band_1=NX_band_1\n",
    "X_band_2=NX_band_2\n",
    "X_band_3=(NX_band_1-NX_band_2)*2\n",
    "X_band_test_1=NX_band_test_1\n",
    "X_band_test_2=NX_band_test_2\n",
    "X_band_test_3=(NX_band_test_1-NX_band_test_2)*2"
   ]
  },
  {
   "cell_type": "raw",
   "metadata": {},
   "source": [
    "X_train = np.concatenate([X_band_1[:, :, :, np.newaxis]\n",
    "                          , X_band_2[:, :, :, np.newaxis]\n",
    "                         , X_band_3[:, :, :, np.newaxis]], axis=-1)\n",
    "\n",
    "X_test = np.concatenate([X_band_test_1[:, :, :, np.newaxis]\n",
    "                          , X_band_test_2[:, :, :, np.newaxis]\n",
    "                         , X_band_test_3[:, :, :, np.newaxis]], axis=-1)"
   ]
  },
  {
   "cell_type": "raw",
   "metadata": {
    "collapsed": true
   },
   "source": [
    "# y_train = np.array(train['is_iceberg'])\n",
    "\n",
    "from sklearn.model_selection import train_test_split\n",
    "\n",
    "X_train, X_valid, y_train, y_valid = train_test_split(rgb_train, y_train, random_state=420, train_size=0.75)"
   ]
  },
  {
   "cell_type": "code",
   "execution_count": null,
   "metadata": {
    "collapsed": true
   },
   "outputs": [],
   "source": [
    "from keras.applications.resnet50 import ResNet50\n",
    "from keras.applications.inception_resnet_v2 import InceptionResNetV2\n",
    "from keras.layers import GlobalMaxPooling2D, Dense, BatchNormalization, GlobalAveragePooling2D, Dropout\n",
    "from keras.models import Model\n",
    "from keras.layers import Concatenate, Dense, LSTM, Input, concatenate\n",
    "\n",
    "#Create the model\n",
    "#model = simple_cnn()\n",
    "input_2 = Input(shape=[1], name=\"angle\")\n",
    "angle_layer = Dense(1, )(input_2)\n",
    "\n",
    "base_model = ResNet50(weights='imagenet', include_top=False, input_shape=(197,197,3))\n",
    "# base_model = InceptionResNetV2(weights='imagenet', include_top=False, input_shape=(197,197,3))\n",
    "x = base_model.output\n",
    "x = GlobalAveragePooling2D()(x)\n",
    "\n",
    "x = concatenate([x, angle_layer])\n",
    "# x = Dense(1024, activation='relu')(x)\n",
    "x = Dense(512, activation='relu')(x)\n",
    "x = Dropout(0.5)(x)\n",
    "# x = Dropout(0.25)(x)\n",
    "x = Dense(256, activation='relu')(x)\n",
    "x = Dropout(0.5)(x)\n",
    "# x = Dropout(0.25)(x)\n",
    "predictions = Dense(1, activation='sigmoid')(x)\n",
    "\n",
    "model = Model(inputs=[base_model.input,input_2], outputs=predictions)\n",
    "#for layer in base_model.layers:\n",
    "#    layer.trainable = False\n",
    "for layer in model.layers[:15]:\n",
    "    layer.trainable = False\n",
    "for layer in model.layers[15:]:\n",
    "    layer.trainable = True"
   ]
  },
  {
   "cell_type": "code",
   "execution_count": null,
   "metadata": {
    "collapsed": true
   },
   "outputs": [],
   "source": [
    "from keras.optimizers import SGD\n",
    "from keras.optimizers import Adam\n",
    "from keras.optimizers import RMSprop\n",
    "from keras.optimizers import Adagrad\n",
    "from keras.optimizers import Adadelta\n",
    "from keras.optimizers import Adamax\n",
    "from keras.optimizers import Nadam\n",
    "\n",
    "# 使用不同的优化\n",
    "sgd = SGD(lr=1e-3, decay=1e-6, momentum=0.9, nesterov=True)\n",
    "adagrad = Adagrad(lr = 1e-3, epsilon = 1e-6)\n",
    "rmsprop = RMSprop(lr=1e-3, rho = 0.9, epsilon=1e-6)\n",
    "adadelta = Adadelta(lr=1e-3, rho=0.95, epsilon=1e-06)\n",
    "adam = Adam(lr=0.001, beta_1=0.9, beta_2=0.999, epsilon=1e-08)\n",
    "adamax = Adamax(lr=0.002, beta_1=0.9, beta_2=0.999, epsilon=1e-08)\n",
    "nadam = Nadam(lr=0.002, beta_1=0.9, beta_2=0.999, epsilon=1e-08, schedule_decay=0.004)\n",
    "\n",
    "#model.compile(optimizer='adam', loss='binary_crossentropy', metrics=['accuracy'])\n",
    "model.compile(optimizer=sgd, loss='binary_crossentropy', metrics=['accuracy'])"
   ]
  },
  {
   "cell_type": "code",
   "execution_count": null,
   "metadata": {
    "collapsed": true
   },
   "outputs": [],
   "source": [
    "from keras.preprocessing.image import ImageDataGenerator\n",
    "batch_size = 16 # 原来是3\n",
    "#Lets define the image transormations that we want\n",
    "gen = ImageDataGenerator(horizontal_flip=True,\n",
    "                         vertical_flip=True,\n",
    "                         width_shift_range=0.,\n",
    "                         height_shift_range=0.,\n",
    "                         zoom_range=0.2,\n",
    "                         rotation_range=10)\n",
    "\n",
    "# Here is the function that merges our two generators\n",
    "# We use the exact same generator with the same random seed for both the y and angle arrays\n",
    "def gen_flow_for_two_inputs(X1, X2, y):\n",
    "    genX1 = gen.flow(X1,y,  batch_size=batch_size,seed=55)\n",
    "    genX2 = gen.flow(X1,X2, batch_size=batch_size,seed=55)\n",
    "    while True:\n",
    "            X1i = genX1.next()\n",
    "            X2i = genX2.next()\n",
    "            #Assert arrays are equal - this was for peace of mind, but slows down training\n",
    "            #np.testing.assert_array_equal(X1i[0],X2i[0])\n",
    "            yield [X1i[0], X2i[1]], X1i[1]\n",
    "\n",
    "#Finally create out generator\n",
    "# gen_flow = gen_flow_for_one_inputs(X_train, y_train)\n",
    "\n",
    "from keras.callbacks import EarlyStopping, ModelCheckpoint\n",
    "\n",
    "# Finally create generator\n",
    "def get_callbacks(filepath, patience=2):\n",
    "   es = EarlyStopping('val_loss', patience=10, mode=\"min\")\n",
    "   msave = ModelCheckpoint(filepath, save_best_only=True)\n",
    "   return [es, msave]\n",
    "\n",
    "'''\n",
    "epochs_to_wait_for_improve = 10\n",
    "early_stopping_callback = EarlyStopping(monitor='val_loss', patience=epochs_to_wait_for_improve)\n",
    "checkpoint_callback = ModelCheckpoint('./model/BestKerasModelResNet50.h5', monitor='val_loss', \n",
    "                                      verbose=1, save_best_only=True, mode='min')\n",
    "'''\n",
    "\n",
    "#Using K-fold Cross Validation with Data Augmentation.\n",
    "def myAngleCV(X_train, X_angle, X_test):\n",
    "# def myAngleCV(X_train, X_test):\n",
    "    # K-折交叉验证\n",
    "    K=3\n",
    "    \n",
    "    folds = list(StratifiedKFold(n_splits=K, shuffle=True, random_state=16).split(X_train, target_train))\n",
    "    y_test_pred_log = 0\n",
    "    y_train_pred_log=0\n",
    "    y_valid_pred_log = 0.0*target_train\n",
    "    \n",
    "    for j, (train_idx, test_idx) in enumerate(folds):\n",
    "        print('\\n===================FOLD=',j)\n",
    "        X_train_cv = X_train[train_idx]\n",
    "        y_train_cv = target_train[train_idx]\n",
    "        X_holdout = X_train[test_idx]\n",
    "        Y_holdout= target_train[test_idx]\n",
    "        \n",
    "        #Angle\n",
    "        X_angle_cv=X_angle[train_idx]\n",
    "        X_angle_hold=X_angle[test_idx]\n",
    "\n",
    "        #define file path and get callbacks\n",
    "        file_path = \"./model/%s_aug_ResNet_model_weights.hdf5\"%j\n",
    "        callbacks = get_callbacks(filepath=file_path, patience=5)\n",
    "        gen_flow = gen_flow_for_two_inputs(X_train_cv, X_angle_cv, y_train_cv)\n",
    "#         gen_flow = gen_flow_for_one_inputs(X_train_cv,  y_train_cv)\n",
    "#         galaxyModel= getVggAngleModel()\n",
    "        galaxyModel= model\n",
    "    \n",
    "        # 调整训练参数\n",
    "        galaxyModel.fit_generator(\n",
    "                gen_flow,\n",
    "                steps_per_epoch=24,\n",
    "                #steps_per_epoch=100,\n",
    "                epochs=100,\n",
    "                shuffle=True,\n",
    "                verbose=1,\n",
    "                validation_data=([X_holdout,X_angle_hold], Y_holdout),\n",
    "#                 validation_data=(X_holdout, Y_holdout),\n",
    "                callbacks=callbacks)\n",
    "\n",
    "        #Getting the Best Model\n",
    "        galaxyModel.load_weights(filepath=file_path)\n",
    "        #Getting Training Score\n",
    "        score = galaxyModel.evaluate([X_train_cv,X_angle_cv], y_train_cv, verbose=0)\n",
    "#         score = galaxyModel.evaluate(X_train_cv, y_train_cv, verbose=0)\n",
    "        print('Train loss:', score[0])\n",
    "        print('Train accuracy:', score[1])\n",
    "        #Getting Test Score\n",
    "        score = galaxyModel.evaluate([X_holdout,X_angle_hold], Y_holdout, verbose=0)\n",
    "#         score = galaxyModel.evaluate(X_holdout, Y_holdout, verbose=0)\n",
    "        print('Test loss:', score[0])\n",
    "        print('Test accuracy:', score[1])\n",
    "\n",
    "        #Getting validation Score.\n",
    "        pred_valid=galaxyModel.predict([X_holdout,X_angle_hold])\n",
    "#         pred_valid=galaxyModel.predict(X_holdout)\n",
    "        y_valid_pred_log[test_idx] = pred_valid.reshape(pred_valid.shape[0])\n",
    "\n",
    "        #Getting Test Scores\n",
    "        temp_test=galaxyModel.predict([X_test, X_test_angle])\n",
    "#         temp_test=galaxyModel.predict(X_test)\n",
    "        y_test_pred_log+=temp_test.reshape(temp_test.shape[0])\n",
    "\n",
    "        #Getting Train Scores\n",
    "        temp_train=galaxyModel.predict([X_train, X_angle])\n",
    "#         temp_train=galaxyModel.predict(X_train)\n",
    "        y_train_pred_log+=temp_train.reshape(temp_train.shape[0])\n",
    "\n",
    "    y_test_pred_log=y_test_pred_log/K\n",
    "    y_train_pred_log=y_train_pred_log/K\n",
    "\n",
    "    print('\\n Train Log Loss Validation= ',log_loss(target_train, y_train_pred_log))\n",
    "    print(' Test Log Loss Validation= ',log_loss(target_train, y_valid_pred_log))\n",
    "    return y_test_pred_log"
   ]
  },
  {
   "cell_type": "code",
   "execution_count": null,
   "metadata": {
    "collapsed": true,
    "scrolled": false
   },
   "outputs": [],
   "source": [
    "preds=myAngleCV(X_train, X_angle, X_test)\n",
    "# preds=myAngleCV(X_train,X_test)"
   ]
  },
  {
   "cell_type": "code",
   "execution_count": null,
   "metadata": {
    "collapsed": true
   },
   "outputs": [],
   "source": [
    "#Submission for each day.\n",
    "submission = pd.DataFrame()\n",
    "submission['id']=test['id']\n",
    "submission['is_iceberg']=preds\n",
    "submission.to_csv('subTLResNet.csv', index=False)\n",
    "# submission,to_csv('subResNetV2.csv',index=False)"
   ]
  },
  {
   "cell_type": "raw",
   "metadata": {
    "scrolled": false
   },
   "source": [
    "#fit the model：epochs原始为500\n",
    "model.fit_generator(gen_flow, validation_data=(X_valid, y_valid), \n",
    "                    steps_per_epoch=int(np.ceil(len(X_train)/batch_size)), \n",
    "                    epochs=200, verbose=1, callbacks=[early_stopping_callback, checkpoint_callback])"
   ]
  },
  {
   "cell_type": "raw",
   "metadata": {},
   "source": [
    "# Predict on test data\n",
    "from keras.models import load_model\n",
    "model = load_model('./model/BestKerasModelResNet50.h5')\n",
    "test_predictions = model.predict(rgb_test)\n",
    "\n",
    "# Create .csv\n",
    "pred_df = test[['id']].copy()\n",
    "pred_df['is_iceberg'] = test_predictions\n",
    "pred_df.to_csv('predictionsResNet50Layers15.csv', index = False)"
   ]
  }
 ],
 "metadata": {
  "kernelspec": {
   "display_name": "Python 3",
   "language": "python",
   "name": "python3"
  },
  "language_info": {
   "codemirror_mode": {
    "name": "ipython",
    "version": 3
   },
   "file_extension": ".py",
   "mimetype": "text/x-python",
   "name": "python",
   "nbconvert_exporter": "python",
   "pygments_lexer": "ipython3",
   "version": "3.6.1"
  }
 },
 "nbformat": 4,
 "nbformat_minor": 2
}

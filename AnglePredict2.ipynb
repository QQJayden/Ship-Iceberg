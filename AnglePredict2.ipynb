{
 "cells": [
  {
   "cell_type": "markdown",
   "metadata": {},
   "source": [
    "#  Angle predict\n",
    "+ [Predicting Missing Incidence Angles](https://www.kaggle.com/reppic/predicting-missing-incidence-angles)"
   ]
  },
  {
   "cell_type": "code",
   "execution_count": 1,
   "metadata": {},
   "outputs": [
    {
     "data": {
      "text/plain": [
       "'\\n# train = pd.read_json(\"./Data/train.json\")\\n\\ntraining_examples = train.shape[0]\\nmissing_angles = len(train[train[\\'inc_angle\\'] == \\'na\\'])\\npercent_missing = (missing_angles/training_examples)*100\\n\\nprint(\"{0}/{1} ({2:.2f}%) of examples are missing inc_angle\".format(\\n    missing_angles, training_examples, percent_missing))\\n    '"
      ]
     },
     "execution_count": 1,
     "metadata": {},
     "output_type": "execute_result"
    }
   ],
   "source": [
    "import numpy as np # linear algebra\n",
    "\n",
    "import pandas as pd\n",
    "from sklearn.model_selection import train_test_split\n",
    "from sklearn.metrics import log_loss\n",
    "from sklearn.model_selection import StratifiedKFold, StratifiedShuffleSplit\n",
    "from os.path import join as opj\n",
    "from matplotlib import pyplot as plt\n",
    "from mpl_toolkits.mplot3d import Axes3D\n",
    "import pylab\n",
    "from scipy.ndimage.filters import uniform_filter\n",
    "plt.rcParams['figure.figsize'] = 10, 10\n",
    "%matplotlib inline"
   ]
  },
  {
   "cell_type": "code",
   "execution_count": 2,
   "metadata": {},
   "outputs": [
    {
     "data": {
      "text/plain": [
       "'\\n# Include the test data in our calculations: \\ntest = pd.read_json(\"./Data/test.json\")\\ntrain_no_ib = train.drop([\\'is_iceberg\\'],axis=1)\\nexamples = pd.concat([train_no_ib,test])\\n\\ninc_angles = examples[examples[\\'inc_angle\\'] != \\'na\\'][\\'inc_angle\\']\\n\\nmean = inc_angles.mean()\\nmedian = inc_angles.median()\\nmode = inc_angles.astype(np.double).round(1).mode()[0] # round to the nearest tenth for mode\\nprint(\"Mean: {0}\\nMedian: {1}\\nMode: {2}\".format(mean,median,mode))\\n'"
      ]
     },
     "execution_count": 2,
     "metadata": {},
     "output_type": "execute_result"
    }
   ],
   "source": [
    "train = pd.read_json(\"../ShipIceberg/Data/train.json\")\n",
    "target_train=train['is_iceberg']\n",
    "\n",
    "# 一直cannot resolve memory block\n",
    "# test = pd.read_json(\"../ShipIceberg/Data/test.json\") "
   ]
  },
  {
   "cell_type": "code",
   "execution_count": 3,
   "metadata": {},
   "outputs": [
    {
     "data": {
      "text/plain": [
       "'\\ninc_angles_train, inc_angles_valid = train_test_split(inc_angles, random_state=1, train_size=0.8, test_size=0.2)\\n\\nones = np.ones(inc_angles_valid.shape[0])\\nmean_mae = mean_absolute_error(ones*inc_angles_train.mean(), inc_angles_valid)\\nmedian_mae = mean_absolute_error(ones*inc_angles_train.median(), inc_angles_valid)\\nmode_mae = mean_absolute_error(ones*inc_angles_train.astype(np.double).round(1).mode()[0], inc_angles_valid)\\n\\nprint(\"Mean Error: {0}\\nMedian Error: {1}\\nMode Error: {2}\".format(mean_mae,median_mae,mode_mae))\\n'"
      ]
     },
     "execution_count": 3,
     "metadata": {},
     "output_type": "execute_result"
    }
   ],
   "source": []
  },
  {
   "cell_type": "code",
   "execution_count": 5,
   "metadata": {},
   "outputs": [
    {
     "name": "stderr",
     "output_type": "stream",
     "text": [
      "Using TensorFlow backend.\n"
     ]
    }
   ],
   "source": [
    "from keras.models import Input,Model\n",
    "from keras.layers import Conv3D, MaxPooling3D, Conv2D, MaxPooling2D, Reshape, Dense, Dropout, Flatten, Activation, BatchNormalization\n",
    "from keras.regularizers import l2\n",
    "from keras import initializers\n",
    "from keras.optimizers import Adam\n",
    "from keras.callbacks import ModelCheckpoint, Callback\n",
    "\n",
    "def model(dropout=0.1, regularization=0.00005):\n",
    "\n",
    "    x_input = Input(shape=(75,75,2,1,)) \n",
    "\n",
    "    # Layer 1\n",
    "    x = Conv3D(96, kernel_size=(5, 5, 2),activation='relu',input_shape=(75, 75, 2,1), kernel_regularizer=l2(regularization))(x_input)\n",
    "    x = BatchNormalization()(x)\n",
    "    x = MaxPooling3D(pool_size=(2, 2, 1), strides=(2, 2, 1))(x)\n",
    "    x = Dropout(dropout)(x)\n",
    "\n",
    "    x = Reshape((35,35,96))(x)\n",
    "\n",
    "    # Layer 2\n",
    "    x = Conv2D(128, kernel_size=(3, 3), activation='relu' , kernel_regularizer=l2(regularization))(x)\n",
    "    x = BatchNormalization()(x)\n",
    "    x = MaxPooling2D(pool_size=(2, 2), strides=(2, 2))(x)\n",
    "    x = Dropout(dropout)(x)\n",
    "    \n",
    "    # Layer 3\n",
    "    x = Conv2D(256, kernel_size=(3, 3), activation='relu' , kernel_regularizer=l2(regularization))(x)\n",
    "    x = BatchNormalization()(x)\n",
    "    x = MaxPooling2D(pool_size=(2, 2), strides=(2, 2))(x)\n",
    "    x = Dropout(dropout+0.1)(x)\n",
    "    \n",
    "    # Layer 4\n",
    "    x = Conv2D(128, kernel_size=(3, 3), activation='relu' , kernel_regularizer=l2(regularization))(x)\n",
    "    x = BatchNormalization()(x)\n",
    "    x = MaxPooling2D(pool_size=(2, 2), strides=(2, 2))(x)\n",
    "    x = Dropout(dropout)(x)\n",
    "    \n",
    "    x = Flatten()(x)\n",
    "    \n",
    "    # Layer 5\n",
    "    x = Dense(768, kernel_regularizer=l2(regularization))(x)\n",
    "    x = BatchNormalization()(x)\n",
    "    x = Activation('relu')(x)\n",
    "    x = Dropout(dropout+0.1)(x)\n",
    "    \n",
    "    # Layer 6\n",
    "    x = Dense(384, kernel_regularizer=l2(regularization))(x)\n",
    "    x = BatchNormalization()(x)\n",
    "    x = Activation('relu')(x)\n",
    "    x = Dropout(dropout+0.1)(x)\n",
    "    \n",
    "    # Linear Output Layer\n",
    "    y_ = Dense(1)(x)\n",
    "    \n",
    "    model = Model(inputs=x_input, outputs=y_)\n",
    "    adam_otim = Adam(lr=0.001, beta_1=0.9, beta_2=0.999, epsilon=1e-08, decay=0.0)\n",
    "    model.compile(loss='mean_squared_error', optimizer=adam_otim, metrics=['mae'])\n",
    "    \n",
    "#     model.summary()\n",
    "    return model"
   ]
  },
  {
   "cell_type": "code",
   "execution_count": 7,
   "metadata": {
    "collapsed": true
   },
   "outputs": [],
   "source": [
    "# train = pd.read_json(\"./Data/train.json\")\n",
    "# test = pd.read_json(\"./Data/test.json\")\n",
    "\n",
    "def load_train_data():\n",
    "    train = pd.read_json(\"./Data/train.json\")\n",
    "    test = pd.read_json(\"./Data/test.json\")\n",
    "    \n",
    "    train = train.drop(['is_iceberg'],axis=1)\n",
    "    train = pd.concat([train,test])\n",
    "    train = train[train['inc_angle'] != 'na']\n",
    "    \n",
    "    band_1 = np.array([np.array(band).astype(np.float32).reshape(75, 75) for band in train[\"band_1\"]])\n",
    "    band_2 = np.array([np.array(band).astype(np.float32).reshape(75, 75) for band in train[\"band_2\"]])\n",
    "    bands = np.concatenate([band_1[:, :, :, np.newaxis], band_2[:, :, :, np.newaxis]], axis=-1)\n",
    "    bands = bands.reshape((-1, 75, 75, 2, 1))\n",
    "    \n",
    "    angles = train[\"inc_angle\"]\n",
    "    \n",
    "    return train_test_split(bands, angles, random_state=1, train_size=0.8, test_size=0.2)"
   ]
  },
  {
   "cell_type": "code",
   "execution_count": 13,
   "metadata": {},
   "outputs": [
    {
     "name": "stdout",
     "output_type": "stream",
     "text": [
      "_________________________________________________________________\n",
      "Layer (type)                 Output Shape              Param #   \n",
      "=================================================================\n",
      "input_2 (InputLayer)         (None, 75, 75, 2, 1)      0         \n",
      "_________________________________________________________________\n",
      "conv3d_2 (Conv3D)            (None, 71, 71, 1, 96)     4896      \n",
      "_________________________________________________________________\n",
      "batch_normalization_7 (Batch (None, 71, 71, 1, 96)     384       \n",
      "_________________________________________________________________\n",
      "max_pooling3d_2 (MaxPooling3 (None, 35, 35, 1, 96)     0         \n",
      "_________________________________________________________________\n",
      "dropout_7 (Dropout)          (None, 35, 35, 1, 96)     0         \n",
      "_________________________________________________________________\n",
      "reshape_2 (Reshape)          (None, 35, 35, 96)        0         \n",
      "_________________________________________________________________\n",
      "conv2d_4 (Conv2D)            (None, 33, 33, 128)       110720    \n",
      "_________________________________________________________________\n",
      "batch_normalization_8 (Batch (None, 33, 33, 128)       512       \n",
      "_________________________________________________________________\n",
      "max_pooling2d_4 (MaxPooling2 (None, 16, 16, 128)       0         \n",
      "_________________________________________________________________\n",
      "dropout_8 (Dropout)          (None, 16, 16, 128)       0         \n",
      "_________________________________________________________________\n",
      "conv2d_5 (Conv2D)            (None, 14, 14, 256)       295168    \n",
      "_________________________________________________________________\n",
      "batch_normalization_9 (Batch (None, 14, 14, 256)       1024      \n",
      "_________________________________________________________________\n",
      "max_pooling2d_5 (MaxPooling2 (None, 7, 7, 256)         0         \n",
      "_________________________________________________________________\n",
      "dropout_9 (Dropout)          (None, 7, 7, 256)         0         \n",
      "_________________________________________________________________\n",
      "conv2d_6 (Conv2D)            (None, 5, 5, 128)         295040    \n",
      "_________________________________________________________________\n",
      "batch_normalization_10 (Batc (None, 5, 5, 128)         512       \n",
      "_________________________________________________________________\n",
      "max_pooling2d_6 (MaxPooling2 (None, 2, 2, 128)         0         \n",
      "_________________________________________________________________\n",
      "dropout_10 (Dropout)         (None, 2, 2, 128)         0         \n",
      "_________________________________________________________________\n",
      "flatten_2 (Flatten)          (None, 512)               0         \n",
      "_________________________________________________________________\n",
      "dense_4 (Dense)              (None, 768)               393984    \n",
      "_________________________________________________________________\n",
      "batch_normalization_11 (Batc (None, 768)               3072      \n",
      "_________________________________________________________________\n",
      "activation_3 (Activation)    (None, 768)               0         \n",
      "_________________________________________________________________\n",
      "dropout_11 (Dropout)         (None, 768)               0         \n",
      "_________________________________________________________________\n",
      "dense_5 (Dense)              (None, 384)               295296    \n",
      "_________________________________________________________________\n",
      "batch_normalization_12 (Batc (None, 384)               1536      \n",
      "_________________________________________________________________\n",
      "activation_4 (Activation)    (None, 384)               0         \n",
      "_________________________________________________________________\n",
      "dropout_12 (Dropout)         (None, 384)               0         \n",
      "_________________________________________________________________\n",
      "dense_6 (Dense)              (None, 1)                 385       \n",
      "=================================================================\n",
      "Total params: 1,402,529\n",
      "Trainable params: 1,399,009\n",
      "Non-trainable params: 3,520\n",
      "_________________________________________________________________\n"
     ]
    },
    {
     "ename": "AttributeError",
     "evalue": "'function' object has no attribute 'fit'",
     "output_type": "error",
     "traceback": [
      "\u001b[0;31m---------------------------------------------------------------------------\u001b[0m",
      "\u001b[0;31mAttributeError\u001b[0m                            Traceback (most recent call last)",
      "\u001b[0;32m<ipython-input-13-3ccea85d348d>\u001b[0m in \u001b[0;36m<module>\u001b[0;34m()\u001b[0m\n\u001b[1;32m      7\u001b[0m \u001b[0;32mif\u001b[0m \u001b[0mTRAIN_FROM_SCRATCH\u001b[0m\u001b[0;34m:\u001b[0m\u001b[0;34m\u001b[0m\u001b[0m\n\u001b[1;32m      8\u001b[0m     \u001b[0mcheckpoint\u001b[0m \u001b[0;34m=\u001b[0m \u001b[0mModelCheckpoint\u001b[0m\u001b[0;34m(\u001b[0m\u001b[0mweights_file\u001b[0m\u001b[0;34m,\u001b[0m \u001b[0msave_best_only\u001b[0m\u001b[0;34m=\u001b[0m\u001b[0;32mTrue\u001b[0m\u001b[0;34m)\u001b[0m\u001b[0;34m\u001b[0m\u001b[0m\n\u001b[0;32m----> 9\u001b[0;31m     model.fit(x_train, y_train, batch_size=32, epochs=25, verbose=1,\n\u001b[0m\u001b[1;32m     10\u001b[0m               \u001b[0mvalidation_data\u001b[0m\u001b[0;34m=\u001b[0m\u001b[0;34m(\u001b[0m\u001b[0mx_valid\u001b[0m\u001b[0;34m,\u001b[0m \u001b[0my_valid\u001b[0m\u001b[0;34m)\u001b[0m\u001b[0;34m,\u001b[0m\u001b[0;34m\u001b[0m\u001b[0m\n\u001b[1;32m     11\u001b[0m               callbacks=[checkpoint])\n",
      "\u001b[0;31mAttributeError\u001b[0m: 'function' object has no attribute 'fit'"
     ]
    }
   ],
   "source": [
    "m = model()\n",
    "x_train, x_valid, y_train, y_valid = load_train_data()\n",
    "weights_file = './model/inc_angle_weights_pretrained.hdf5'\n",
    "\n",
    "TRAIN_FROM_SCRATCH = True\n",
    "\n",
    "if TRAIN_FROM_SCRATCH:\n",
    "    checkpoint = ModelCheckpoint(weights_file, save_best_only=True)\n",
    "    m.fit(x_train, y_train, batch_size=32, epochs=25, verbose=1,\n",
    "              validation_data=(x_valid, y_valid),\n",
    "              callbacks=[checkpoint])\n",
    "else:\n",
    "    m.load_weights(filepath=weights_file)\n"
   ]
  },
  {
   "cell_type": "code",
   "execution_count": 9,
   "metadata": {},
   "outputs": [
    {
     "name": "stdout",
     "output_type": "stream",
     "text": [
      "1979/1979 [==============================] - 2s     \n",
      "Model Error: 2.9078589958686725\n"
     ]
    }
   ],
   "source": [
    "predicted_angles = m.predict(x_valid, verbose=1)\n",
    "model_mae = mean_absolute_error(predicted_angles, y_valid)\n",
    "print('Model Error: {0}'.format(model_mae))"
   ]
  },
  {
   "cell_type": "code",
   "execution_count": null,
   "metadata": {
    "collapsed": true
   },
   "outputs": [],
   "source": [
    "def predict_inc_angle(ex, model):\n",
    "    band_1 = np.array([np.array(ex[\"band_1\"]).astype(np.float32).reshape(75, 75)])\n",
    "    band_2 = np.array([np.array(ex[\"band_2\"]).astype(np.float32).reshape(75, 75)])\n",
    "    bands = np.concatenate([band_1[:, :, :, np.newaxis], band_2[:, :, :, np.newaxis]], axis=-1)\n",
    "    bands = bands.reshape((1, 75, 75, 2, 1))\n",
    "    inc_angle = model.predict(bands)\n",
    "    return inc_angle.reshape(1)[0]\n",
    "    \n",
    "train = pd.read_json(\"./Data/train.json\")\n",
    "train_out_model = train.copy()\n",
    "\n",
    "train_out_model['inc_angle'] = [predict_inc_angle(ex,m) if ex['inc_angle'] == 'na' \n",
    "                          else ex['inc_angle'] \n",
    "                          for _,ex in train_out_model.iterrows()]\n",
    "\n",
    "# train_out_model.to_json('./Data/train_model_fill.json')\n",
    "train_out_model.to_json('./Data/train_model_fill_train.json')"
   ]
  },
  {
   "cell_type": "code",
   "execution_count": 12,
   "metadata": {},
   "outputs": [
    {
     "name": "stdout",
     "output_type": "stream",
     "text": [
      "0       43.923900\n",
      "1       38.156200\n",
      "2       45.285900\n",
      "3       43.830600\n",
      "4       35.625600\n",
      "5       36.903400\n",
      "6       34.475100\n",
      "7       41.176900\n",
      "8       35.782900\n",
      "9       43.300700\n",
      "10      44.624000\n",
      "11      39.506700\n",
      "12      41.854400\n",
      "13      45.290900\n",
      "14      34.771500\n",
      "15      43.782000\n",
      "16      45.356800\n",
      "17      38.781200\n",
      "18      42.514500\n",
      "19      37.280200\n",
      "20      41.797300\n",
      "21      38.066900\n",
      "22      39.663600\n",
      "23      37.686600\n",
      "24      40.296000\n",
      "25      39.234000\n",
      "26      40.390400\n",
      "27      43.789500\n",
      "28      42.589100\n",
      "29      41.030300\n",
      "          ...    \n",
      "1574    35.008137\n",
      "1575    36.545788\n",
      "1576    45.019547\n",
      "1577    36.795406\n",
      "1578    38.855888\n",
      "1579    39.111088\n",
      "1580    39.463596\n",
      "1581    36.814934\n",
      "1582    44.539196\n",
      "1583    40.987122\n",
      "1584    33.329502\n",
      "1585    39.193367\n",
      "1586    38.154198\n",
      "1587    37.046684\n",
      "1588    39.450466\n",
      "1589    44.487198\n",
      "1590    33.458179\n",
      "1591    34.658039\n",
      "1592    36.298862\n",
      "1593    40.810936\n",
      "1594    43.235126\n",
      "1595    42.645870\n",
      "1596    36.700695\n",
      "1597    33.396420\n",
      "1598    37.327110\n",
      "1599    42.263187\n",
      "1600    43.248333\n",
      "1601    39.574718\n",
      "1602    35.046535\n",
      "1603    38.066017\n",
      "Name: inc_angle, Length: 1604, dtype: float64\n"
     ]
    }
   ],
   "source": [
    "print(train_out_model['inc_angle'])"
   ]
  }
 ],
 "metadata": {
  "kernelspec": {
   "display_name": "Python 3",
   "language": "python",
   "name": "python3"
  },
  "language_info": {
   "codemirror_mode": {
    "name": "ipython",
    "version": 3
   },
   "file_extension": ".py",
   "mimetype": "text/x-python",
   "name": "python",
   "nbconvert_exporter": "python",
   "pygments_lexer": "ipython3",
   "version": "3.6.1"
  }
 },
 "nbformat": 4,
 "nbformat_minor": 2
}

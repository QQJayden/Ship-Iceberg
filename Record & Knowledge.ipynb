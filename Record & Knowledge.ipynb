{
 "cells": [
  {
   "cell_type": "markdown",
   "metadata": {},
   "source": [
    "# 记录上交结果\n",
    "\n",
    "LB 分数均有问题！！！，按照提交记录更新"
   ]
  },
  {
   "cell_type": "markdown",
   "metadata": {},
   "source": [
    "CNN1：\n",
    "+ 1 -   Test loss: 0.275154690195 Test accuracy: 0.887780549074  LB 0.2490\n",
    "+ 2 - 0.3395 - val_acc: 0.8554 Test loss: 0.267908744681 Test accuracy: 0.897755611864  LB 0.2257\n",
    "+ 2.1 - 0.2700 - val_acc: 0.8728 Test loss: 0.259158085261 Test accuracy: 0.875311723671\n",
    "+ 2.2 - 0.2759 - val_acc: 0.8928 Test loss: 0.249730644975 Test accuracy: 0.892768080544"
   ]
  },
  {
   "cell_type": "markdown",
   "metadata": {},
   "source": [
    "CNN2：\n",
    "+ 3 - 0.2947 - val_acc: 0.8778 Test loss: 0.26417597779 Test accuracy: 0.902743142591 LB 0.2515"
   ]
  },
  {
   "cell_type": "markdown",
   "metadata": {},
   "source": [
    "KerasCNN3:\n",
    "+ 5.1 - 无验证集 - loss: 0.0174 - acc: 0.9939 - LB = 0.6553"
   ]
  },
  {
   "cell_type": "markdown",
   "metadata": {},
   "source": [
    "TransferLearning - VGG16:\n",
    "+ 4 - Train Log Loss Validation=  0.138521480258\n",
    " Test Log Loss Validation=  0.207696038832 LB = 0.1767\n",
    "+ 4.1 - Train Log Loss Validation=  0.122066450438\n",
    " Test Log Loss Validation=  0.209712377491 LB = 0.1644\n",
    "+ 4.2 - Train Log Loss Validation=  0.124953724097\n",
    " Test Log Loss Validation=  0.202092558531 LB = 0.1694\n",
    "+ 4.3 - 0.4+0.6 -  Train Log Loss Validation=  0.385658522719\n",
    " Test Log Loss Validation=  0.481359014213 LB = 0.4321\n",
    "+ 4.4 - 调和平均- Train Log Loss Validation=  0.13348237386\n",
    " Test Log Loss Validation=  0.207587163509\n",
    "+ 4.5 - 0.6+0.4 - Train Log Loss Validation=  0.113518063269\n",
    " Test Log Loss Validation=  0.204494160101 LB = 0.1651\n",
    "+ 4.6 - 0.7+0.3 - Train Log Loss Validation=  0.132398895493\n",
    " Test Log Loss Validation=  0.206719945625 \n",
    "+ 4.7 - 0.5858 + 0.4142 - Train Log Loss Validation=  0.129661314706\n",
    " Test Log Loss Validation=  0.207133890752\n",
    "+ 4.8 - K = 5 - Train Log Loss Validation=  0.174761620786\n",
    " Test Log Loss Validation=  0.241249038\n",
    "+ 4.9 - VGG19 - Train Log Loss Validation=  0.140028382319\n",
    " Test Log Loss Validation=  0.202212040138\n",
    "+ 4.10 - Train Log Loss Validation=  0.133610244928\n",
    " Test Log Loss Validation=  0.205453261278\n",
    "+ 4.11 - K =4 -Train Log Loss Validation=  0.132140963309\n",
    " Test Log Loss Validation=  0.207113223654  LB = 0.1595\n",
    "+ 4.12 - 旋转范围5 -Train Log Loss Validation=  0.141289710333\n",
    " Test Log Loss Validation=  0.202815982836\n",
    "+ 4.13 - batchsize=32+aug1 - Train Log Loss Validation=  0.178197978631\n",
    " Test Log Loss Validation=  0.217780893888\n",
    "+ 4.14 - adagrad + aug1 - Train Log Loss Validation=  0.132863490422\n",
    " Test Log Loss Validation=  0.208731782096\n",
    "+ 4.15 - Adam + aug1 + lr0.0001 -Train Log Loss Validation=  0.164016204443\n",
    " Test Log Loss Validation=  0.227204709358\n",
    "+ 4.16 - Adam + lr0.00001 -Train Log Loss Validation=  0.152803957003\n",
    " Test Log Loss Validation=  0.217382499741\n",
    "+ 4.17 - sgd + lr 0.0001 -Train Log Loss Validation=  0.154449636426\n",
    " Test Log Loss Validation=  0.217933644468\n",
    "+ 4.18 - band3 = band1/band2 - Train Log Loss Validation=  0.155069041415\n",
    " Test Log Loss Validation=  0.211033935442\n",
    "+ 4.19 - RGB - Train Log Loss Validation=  0.139107240957\n",
    " Test Log Loss Validation=  0.207001158467 LB = 0.1846\n",
    "+ 4.20 - mean白化 - Train Log Loss Validation=  0.153666879106\n",
    " Test Log Loss Validation=  0.212400072211\n",
    "+ 4.21 -  Train Log Loss Validation=  0.153861156733\n",
    " Test Log Loss Validation=  0.215708195864\n",
    "+ 4.22 - Train Log Loss Validation=  0.143604051633\n",
    " Test Log Loss Validation=  0.219534947824\n",
    "+ 4.23 - train: sobel+Averaging - Train Log Loss Validation=  0.172907498849\n",
    " Test Log Loss Validation=  0.233603533015\n",
    "+ 4.24 - Train Log Loss Validation=  0.13809842507\n",
    " Test Log Loss Validation=  0.206686940659\n",
    "+ 4.25 - K=4 - Train Log Loss Validation=  0.126371846746\n",
    " Test Log Loss Validation=  0.199937690584 - LB = 0.1748\n",
    "+ 4.26 - K=4 - Train Log Loss Validation=  0.13031977731\n",
    " Test Log Loss Validation=  0.209985304001 - LB = 0.1701"
   ]
  },
  {
   "cell_type": "markdown",
   "metadata": {},
   "source": [
    "Teansfer Learning kerasVGG:\n",
    "+ 4.27 - K=3 + 无angle - Train Log Loss Validation=  0.143957161029\n",
    " Test Log Loss Validation=  0.217329976221\n",
    "+ 4.28 - K=3+ 有angle - Train Log Loss Validation=  0.167584456657\n",
    " Test Log Loss Validation=  0.215112757016\n",
    "+ 4.29 - K=4 -  Train Log Loss Validation=  0.142393434853\n",
    " Test Log Loss Validation=  0.216624600817\n",
    "+ 4.30 - K=4&系数不同-Train Log Loss Validation=  0.12857999157\n",
    " Test Log Loss Validation=  0.201910351688 - LB = 0.1629\n",
    "+ 4.31 - K=4 系数不同 - Train Log Loss Validation=  0.12857999157\n",
    " Test Log Loss Validation=  0.201910351688 - \n",
    "+ 4.32 - K=4 leefilter Wi Nj =1 -  Train Log Loss Validation=  0.124997680195\n",
    " Test Log Loss Validation=  0.18726268286 - LB = 0.1651\n",
    "+ 4.33 - K=4 leefilter Wi Nj =2 -  Train Log Loss Validation=  0.150654103694\n",
    " Test Log Loss Validation=  0.203096213504"
   ]
  },
  {
   "cell_type": "markdown",
   "metadata": {},
   "source": [
    "Transfer Learning - VGG2: 加入统计特征\n",
    "+ 7.1 - 增加特征 - Train Log Loss Validation=  0.112687665981\n",
    " Test Log Loss Validation=  0.198629480033 - LB = 0.1538\n",
    "+ 7.2 - K = 4 -------- Train Log Loss Validation=  0.132336523985\n",
    " Test Log Loss Validation=  0.196812623335 - LB = 0.1544\n",
    "+ 7.3 - lr = 5e-4 - Train Log Loss Validation=  0.135139711733\n",
    " Test Log Loss Validation=  0.206148407942\n",
    "+ 7.4 - k=5 ,lr=2e-4     -Train Log Loss Validation=  0.154679255178\n",
    " Test Log Loss Validation=  0.20514499212\n",
    "+ 7.5 - 1+2/2 - Train Log Loss Validation=  0.129944435615\n",
    " Test Log Loss Validation=  0.203460041232\n",
    "+ 7.6 - Wi Nj =2 - Train Log Loss Validation=  0.118298524535\n",
    " Test Log Loss Validation=  0.191265298698  - LB = 0.1654\n",
    "+ 7.7 - VGG19 -  Train Log Loss Validation=  0.126656669401\n",
    " Test Log Loss Validation=  0.194358742002 - LB = 0.1584\n",
    "+ 7.8 - k=10, 无滤波,vgg19 -  Train Log Loss Validation=  0.123447718771\n",
    " Test Log Loss Validation=  0.179428080121 - LB = 0.1565\n",
    "+ 7.9 - k=10, vgg16 -  Train Log Loss Validation=  0.1216442633\n",
    " Test Log Loss Validation=  0.184086717617 LB = 0.1540\n",
    "+ 7.10 -  Train Log Loss Validation=  0.143174958088\n",
    " Test Log Loss Validation=  0.199799304165 - LB = 0.1682\n",
    "+ 7.11 -  Train Log Loss Validation=  0.133531668005\n",
    " Test Log Loss Validation=  0.206460062507\n",
    "+ 7.12 - Train Log Loss Validation=  0.114837380801\n",
    " Test Log Loss Validation=  0.219986197986 LB = 0.1691\n",
    "+ 7.13 - Train Log Loss Validation=  0.136234893048\n",
    " Test Log Loss Validation=  0.201644963347\n",
    "+ 7.14 -  Train Log Loss Validation=  0.162541040565\n",
    " Test Log Loss Validation=  0.208014646882\n",
    "+ 7.15 - Train Log Loss Validation=  0.13423162464\n",
    " Test Log Loss Validation=  0.195212741928\n",
    "+ 7.16 - Train Log Loss Validation=  0.130554425886\n",
    " Test Log Loss Validation=  0.196251406937\n",
    "+ 7.17 - Train Log Loss Validation=  0.12321663457\n",
    " Test Log Loss Validation=  0.198454747392\n",
    "+ 7.18 - 只加size - Train Log Loss Validation=  0.122274508519\n",
    " Test Log Loss Validation=  0.206820700941\n",
    "+ 7.19 - Train Log Loss Validation=  0.12634911673\n",
    " Test Log Loss Validation=  0.196074269655"
   ]
  },
  {
   "cell_type": "markdown",
   "metadata": {},
   "source": [
    "Transfer Learning VGG3: 加入size特征\n",
    "+ 8.1 - k=5,vgg16,size - Train Log Loss Validation=  0.131112665579\n",
    " Test Log Loss Validation=  0.19437172561  - LB = 0.1640"
   ]
  },
  {
   "cell_type": "markdown",
   "metadata": {},
   "source": [
    "Transfer Learning ResNet1: 不加特征\n",
    "+ 9.1 Epoch 82/500\n",
    "400/401 [============================>.] - ETA: 0s - loss: 0.1384 - acc: 0.9475Epoch 00081: val_loss did not improve\n",
    "401/401 [==============================] - 62s - loss: 0.1381 - acc: 0.9476 - val_loss: 0.3911 - val_acc: 0.8728\n",
    "+ 9.2 - 照VGG改，+ k折交叉验证  不含angle - Train Log Loss Validation=  0.101365588906\n",
    " Test Log Loss Validation=  0.131804167262 - LB = 0.1671"
   ]
  },
  {
   "cell_type": "markdown",
   "metadata": {},
   "source": [
    "Transfer Learning ResNet2: 加angle,k折交叉验证\n",
    "+ 9.3 - 加入angle -  Train Log Loss Validation=  0.0902235369909\n",
    " Test Log Loss Validation=  0.114947874536 - LB = 0.1694\n",
    "+ 9.4 -k=4 - Train Log Loss Validation=  0.108827312494\n",
    " Test Log Loss Validation=  0.125200634246 - LB = 0.1679\n",
    "+ 9.7 -k=3，无shuffle -Train Log Loss Validation=  0.127335447001\n",
    " Test Log Loss Validation=  0.145287102344 - LB = 0.1954\n",
    "+ 9.8 -K=3,零填充， 没有shuffle, FC512*512-Train Log Loss Validation=  0.0746468722259\n",
    " Test Log Loss Validation=  0.10408403166 - LB = 0.1900\n",
    "+ 9.9 - K=3,平均填充 - Train Log Loss Validation= ', 0.085928442237867483 Test Log Loss Validation= ', 0.11924755159791825) - LB = 0.1786\n",
    "+ 9.10 - pad填充, 加入shuffle, 更改steps_per_epoch -  Train Log Loss Validation=  0.132736633048\n",
    " Test Log Loss Validation=  0.155106562333\n",
    "+ 9.11 - K =4 , lr=2e-4 -  Train Log Loss Validation=  0.086979054881\n",
    " Test Log Loss Validation=  0.107962657662 - LB = 0.1873\n",
    "+ 9.12 - K=10, lr = 2e-4, batch_size = 32 - "
   ]
  },
  {
   "cell_type": "markdown",
   "metadata": {},
   "source": [
    "Transfer Learning ResNet3: 加入各种特征\n",
    "+ 9.5 - Train Log Loss Validation=  0.117156323282\n",
    " Test Log Loss Validation=  0.132703562638 - LB = 0.1832\n",
    "+ 9.6 - K=4，无rgb - Train Log Loss Validation=  0.142520649593\n",
    " Test Log Loss Validation=  0.150315974216"
   ]
  },
  {
   "cell_type": "markdown",
   "metadata": {},
   "source": [
    "Transfer Learning - VGG16 + MobileNet\n",
    "+ 10.1 - angle - Train Log Loss Validation=  0.1270492242\n",
    " Test Log Loss Validation=  0.205238753521 - LB=0.1702\n",
    "+ 10.2 - 加入各种特征 - Train Log Loss Validation=  0.11134077169\n",
    " Test Log Loss Validation=  0.19427811233\n",
    "+ 10.3 - K=10 - Train Log Loss Validation=  0.13826701811\n",
    " Test Log Loss Validation=  0.191567417643\n",
    "+ 10.4 -工作站 - Train Log Loss Validation=  0.118268304709\n",
    " Test Log Loss Validation=  0.197127030444\n",
    "+ 10.5 -  Train Log Loss Validation=  0.121773963785\n",
    " Test Log Loss Validation=  0.194295403627"
   ]
  },
  {
   "cell_type": "markdown",
   "metadata": {},
   "source": [
    "Transfer Learning Xception - 按VGG16改"
   ]
  },
  {
   "cell_type": "markdown",
   "metadata": {},
   "source": [
    "+ 11.0 - Xception2, 加入各种统计特征 - Train Log Loss Validation=  0.169910147692\n",
    " Test Log Loss Validation=  0.245084731238\n",
    "+ 11.1 - Xception, 只加angle- Train Log Loss Validation=  0.156118864111\n",
    " Test Log Loss Validation=  0.242995229078 - LB = 0.2047"
   ]
  },
  {
   "cell_type": "markdown",
   "metadata": {},
   "source": [
    "Transfer Learning-Inception||Mobilenet\n",
    "+ 6.1 -原始- 0.94 0.88 - \n",
    "+ 6.2 - InceptionV3 - Train Log Loss Validation=  0.144580128195\n",
    " Test Log Loss Validation=  0.18544957943\n",
    "+ 6.3 -512 0.5 256 0.5  Train Log Loss Validation=  0.107780732017\n",
    " Test Log Loss Validation=  0.130189182489\n",
    "+ 6.4  -  Train Log Loss Validation=  0.0879504183987\n",
    " Test Log Loss Validation=  0.119899220862\n",
    "+ 6.6 - Train Log Loss Validation=  0.0966259460582\n",
    " Test Log Loss Validation=  0.144120141383"
   ]
  },
  {
   "cell_type": "markdown",
   "metadata": {},
   "source": [
    "Simple Keras - \n",
    "+ 12.1 - K=3, lr=5e-3, angle_layer - Train Log Loss Validation=  0.167033542604\n",
    " Test Log Loss Validation=  0.219133912564 - LB = 0.1949"
   ]
  },
  {
   "cell_type": "markdown",
   "metadata": {},
   "source": [
    "Simple CNN :\n",
    "+ 13.1 - Val score: 0.183127535067  Val accuracy: 0.929545456713"
   ]
  },
  {
   "cell_type": "markdown",
   "metadata": {},
   "source": [
    "# Domain Knowledge"
   ]
  },
  {
   "cell_type": "markdown",
   "metadata": {},
   "source": [
    "参考资料：[Domain knowledge](https://www.kaggle.com/dimitrif/domain-knowledge)"
   ]
  },
  {
   "cell_type": "markdown",
   "metadata": {},
   "source": [
    "1. [Synthetic-aperture_radar wikipedia page](https://en.wikipedia.org/wiki/Synthetic-aperture_radar)"
   ]
  },
  {
   "cell_type": "markdown",
   "metadata": {},
   "source": [
    "内容太多直接看参考的kernel"
   ]
  },
  {
   "cell_type": "markdown",
   "metadata": {},
   "source": [
    "1. Are those two channels the raw data or are they preprocessed before ? The ESA powerpoint explain how the raw data are preprocessed, HH and HV are the preprocessed data\n",
    "\n",
    "2. What kind of preprocessing are used on those data ? The main problem is the speckle noise and can be solved with filter (frequency, spatial and multichannel). There is also the possibility to use some normalization preprocessing.\n",
    "\n",
    "3.    How did they obtain the color composite image in the background page ? Polarimetric Decompositions seems to be the answer.\n",
    "\n",
    "4. Typical task of SAR data ? Lot of paper on our task (or close to our task, i.e. glass and water), some other on crop classification.\n",
    "\n",
    "5.    Is there peer review paper on this task and if yes, what is the state of the art approach ? One of them use data augmentation, filtering, normalisatin, 2 CNN filter with pooling and fully connected softmax, it gave better result than a SVM.\n"
   ]
  }
 ],
 "metadata": {
  "kernelspec": {
   "display_name": "Python 3",
   "language": "python",
   "name": "python3"
  },
  "language_info": {
   "codemirror_mode": {
    "name": "ipython",
    "version": 3
   },
   "file_extension": ".py",
   "mimetype": "text/x-python",
   "name": "python",
   "nbconvert_exporter": "python",
   "pygments_lexer": "ipython3",
   "version": "3.6.1"
  }
 },
 "nbformat": 4,
 "nbformat_minor": 2
}

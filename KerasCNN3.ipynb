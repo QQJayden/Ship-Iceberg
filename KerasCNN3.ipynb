{
 "cells": [
  {
   "cell_type": "markdown",
   "metadata": {},
   "source": [
    "# KerasCNN3"
   ]
  },
  {
   "cell_type": "code",
   "execution_count": 1,
   "metadata": {},
   "outputs": [
    {
     "name": "stderr",
     "output_type": "stream",
     "text": [
      "Using TensorFlow backend.\n"
     ]
    }
   ],
   "source": [
    "import numpy as np\n",
    "import pandas as pd\n",
    "import keras as k\n",
    "from keras.callbacks import ModelCheckpoint, Callback, EarlyStopping"
   ]
  },
  {
   "cell_type": "code",
   "execution_count": 2,
   "metadata": {
    "collapsed": true
   },
   "outputs": [],
   "source": [
    "train = pd.read_json('../ShipIceberg/Data/train.json')\n",
    "train.inc_angle = train.inc_angle.replace('na',0)"
   ]
  },
  {
   "cell_type": "code",
   "execution_count": 3,
   "metadata": {
    "collapsed": true
   },
   "outputs": [],
   "source": [
    "def transform(df):\n",
    "    images = []\n",
    "    for i, row in df.iterrows():\n",
    "        band_1 = np.array(row['band_1']).reshape(75, 75)\n",
    "        band_2 = np.array(row['band_2']).reshape(75, 75)\n",
    "    \n",
    "        # Feature scaling\n",
    "        band_1_norm = (band_1 - band_1.mean()) / (band_1.max() - band_1.min())\n",
    "        band_2_norm = (band_2 - band_2.mean()) / (band_2.max() - band_2.min())\n",
    "        images.append(np.dstack((band_1_norm, band_2_norm)))\n",
    "    return np.array(images)\n",
    "\n",
    "def augment(images):\n",
    "    image_rot90 = []\n",
    "    image_rot180 = []\n",
    "    image_rot270 = []\n",
    "    image_mirror_lr = []\n",
    "    image_mirror_ud = []\n",
    "    for i in range(0,images.shape[0]):\n",
    "        band_1 = images[i,:,:,0]\n",
    "        band_2 = images[i,:,:,1]\n",
    "        \n",
    "        # rotate 90\n",
    "        band_1_rot90 = np.rot90(band_1)\n",
    "        band_2_rot90 = np.rot90(band_2)\n",
    "        image_rot90.append(np.dstack((band_1_rot90, band_2_rot90)))\n",
    "        \n",
    "        # rotate 180\n",
    "        band_1_rot180 = np.rot90(band_1_rot90)\n",
    "        band_2_rot180 = np.rot90(band_2_rot90)\n",
    "        image_rot180.append(np.dstack((band_1_rot180, band_2_rot180)))\n",
    "        \n",
    "        # rotate 270\n",
    "        band_1_rot270 = np.rot90(band_1_rot180)\n",
    "        band_2_rot270 = np.rot90(band_2_rot180)\n",
    "        image_rot270.append(np.dstack((band_1_rot270, band_2_rot270)))\n",
    "        \n",
    "        # mirror left-right\n",
    "        band_1_mirror_lr = np.flip(band_1, 0)\n",
    "        band_2_mirror_lr = np.flip(band_2, 0)\n",
    "        image_mirror_lr.append(np.dstack((band_1_mirror_lr, band_2_mirror_lr)))\n",
    "        \n",
    "        # mirror up-down\n",
    "        band_1_mirror_ud = np.flip(band_1, 1)\n",
    "        band_2_mirror_ud = np.flip(band_2, 1)\n",
    "        image_mirror_ud.append(np.dstack((band_1_mirror_ud, band_2_mirror_ud)))\n",
    "        \n",
    "    rot90 = np.array(image_rot90)\n",
    "    rot180 = np.array(image_rot180)\n",
    "    rot270 = np.array(image_rot270)\n",
    "    mirrorlr = np.array(image_mirror_lr)\n",
    "    mirrorud = np.array(image_mirror_ud)\n",
    "    images = np.concatenate((images, rot90, rot180, rot270, mirrorlr, mirrorud))\n",
    "    return images"
   ]
  },
  {
   "cell_type": "code",
   "execution_count": 4,
   "metadata": {
    "collapsed": true
   },
   "outputs": [],
   "source": [
    "train_X = transform(train)\n",
    "train_y = np.array(train['is_iceberg'])\n",
    "train_X = augment(train_X)\n",
    "train_y = np.concatenate((train_y, train_y, train_y, train_y, train_y, train_y))"
   ]
  },
  {
   "cell_type": "code",
   "execution_count": 5,
   "metadata": {
    "collapsed": true
   },
   "outputs": [],
   "source": [
    "from sklearn.model_selection import train_test_split\n",
    "\n",
    "X_train_cv, X_valid, y_train_cv, y_valid = train_test_split(train_X, \n",
    "                                                            train_y, \n",
    "                                                            random_state=1, \n",
    "                                                            train_size=0.8)"
   ]
  },
  {
   "cell_type": "code",
   "execution_count": 6,
   "metadata": {
    "scrolled": false
   },
   "outputs": [
    {
     "name": "stdout",
     "output_type": "stream",
     "text": [
      "_________________________________________________________________\n",
      "Layer (type)                 Output Shape              Param #   \n",
      "=================================================================\n",
      "conv2d_1 (Conv2D)            (None, 73, 73, 32)        608       \n",
      "_________________________________________________________________\n",
      "max_pooling2d_1 (MaxPooling2 (None, 36, 36, 32)        0         \n",
      "_________________________________________________________________\n",
      "conv2d_2 (Conv2D)            (None, 34, 34, 64)        18496     \n",
      "_________________________________________________________________\n",
      "max_pooling2d_2 (MaxPooling2 (None, 17, 17, 64)        0         \n",
      "_________________________________________________________________\n",
      "conv2d_3 (Conv2D)            (None, 15, 15, 128)       73856     \n",
      "_________________________________________________________________\n",
      "max_pooling2d_3 (MaxPooling2 (None, 7, 7, 128)         0         \n",
      "_________________________________________________________________\n",
      "conv2d_4 (Conv2D)            (None, 5, 5, 256)         295168    \n",
      "_________________________________________________________________\n",
      "max_pooling2d_4 (MaxPooling2 (None, 2, 2, 256)         0         \n",
      "_________________________________________________________________\n",
      "dropout_1 (Dropout)          (None, 2, 2, 256)         0         \n",
      "_________________________________________________________________\n",
      "flatten_1 (Flatten)          (None, 1024)              0         \n",
      "_________________________________________________________________\n",
      "dense_1 (Dense)              (None, 256)               262400    \n",
      "_________________________________________________________________\n",
      "dropout_2 (Dropout)          (None, 256)               0         \n",
      "_________________________________________________________________\n",
      "dense_2 (Dense)              (None, 128)               32896     \n",
      "_________________________________________________________________\n",
      "dropout_3 (Dropout)          (None, 128)               0         \n",
      "_________________________________________________________________\n",
      "dense_3 (Dense)              (None, 1)                 129       \n",
      "=================================================================\n",
      "Total params: 683,553\n",
      "Trainable params: 683,553\n",
      "Non-trainable params: 0\n",
      "_________________________________________________________________\n"
     ]
    }
   ],
   "source": [
    "model=k.models.Sequential()\n",
    "\n",
    "model.add(k.layers.convolutional.Conv2D(32, kernel_size=(3, 3),activation='relu', input_shape=(75, 75, 2)))\n",
    "model.add(k.layers.convolutional.MaxPooling2D(pool_size=(2, 2), strides=(2, 2)))\n",
    "\n",
    "model.add(k.layers.convolutional.Conv2D(64, kernel_size=(3, 3),activation='relu'))\n",
    "model.add(k.layers.convolutional.MaxPooling2D(pool_size=(2, 2), strides=(2, 2)))\n",
    "\n",
    "model.add(k.layers.convolutional.Conv2D(128, kernel_size=(3, 3),activation='relu'))\n",
    "model.add(k.layers.convolutional.MaxPooling2D(pool_size=(2, 2), strides=(2, 2)))\n",
    "\n",
    "model.add(k.layers.convolutional.Conv2D(256, kernel_size=(3, 3), activation='relu'))\n",
    "model.add(k.layers.convolutional.MaxPooling2D(pool_size=(2, 2), strides=(2, 2)))\n",
    "\n",
    "model.add(k.layers.Dropout(0.25))\n",
    "\n",
    "model.add(k.layers.Flatten())\n",
    "\n",
    "model.add(k.layers.Dense(256, activation='relu'))\n",
    "model.add(k.layers.Dropout(0.3))\n",
    "\n",
    "model.add(k.layers.Dense(128, activation='relu'))\n",
    "model.add(k.layers.Dropout(0.4))\n",
    "\n",
    "model.add(k.layers.Dense(1, activation=\"sigmoid\"))\n",
    "\n",
    "model.compile(loss='binary_crossentropy', optimizer = k.optimizers.Nadam(lr=0.001), metrics=['accuracy'])\n",
    "model.summary()"
   ]
  },
  {
   "cell_type": "code",
   "execution_count": 7,
   "metadata": {
    "scrolled": true
   },
   "outputs": [
    {
     "name": "stdout",
     "output_type": "stream",
     "text": [
      "Train on 7699 samples, validate on 1925 samples\n",
      "Epoch 1/25\n",
      "7699/7699 [==============================] - 17s - loss: 0.6500 - acc: 0.6080 - val_loss: 0.5107 - val_acc: 0.7325\n",
      "Epoch 2/25\n",
      "7699/7699 [==============================] - 5s - loss: 0.4858 - acc: 0.7657 - val_loss: 0.3489 - val_acc: 0.8322\n",
      "Epoch 3/25\n",
      "7699/7699 [==============================] - 5s - loss: 0.3586 - acc: 0.8448 - val_loss: 0.3159 - val_acc: 0.8603\n",
      "Epoch 4/25\n",
      "7699/7699 [==============================] - 5s - loss: 0.2985 - acc: 0.8714 - val_loss: 0.2953 - val_acc: 0.8649\n",
      "Epoch 5/25\n",
      "7699/7699 [==============================] - 5s - loss: 0.2802 - acc: 0.8810 - val_loss: 0.2717 - val_acc: 0.8779\n",
      "Epoch 6/25\n",
      "7699/7699 [==============================] - 5s - loss: 0.2421 - acc: 0.9009 - val_loss: 0.2542 - val_acc: 0.8836\n",
      "Epoch 7/25\n",
      "7699/7699 [==============================] - 5s - loss: 0.2228 - acc: 0.9125 - val_loss: 0.2679 - val_acc: 0.8816\n",
      "Epoch 8/25\n",
      "7699/7699 [==============================] - 5s - loss: 0.1969 - acc: 0.9180 - val_loss: 0.3775 - val_acc: 0.8545\n",
      "Epoch 9/25\n",
      "7699/7699 [==============================] - 5s - loss: 0.1911 - acc: 0.9267 - val_loss: 0.2662 - val_acc: 0.8935\n",
      "Epoch 10/25\n",
      "7699/7699 [==============================] - 5s - loss: 0.1512 - acc: 0.9434 - val_loss: 0.2711 - val_acc: 0.8951\n",
      "Epoch 11/25\n",
      "7699/7699 [==============================] - 5s - loss: 0.1222 - acc: 0.9560 - val_loss: 0.2868 - val_acc: 0.8836\n",
      "Epoch 12/25\n",
      "7699/7699 [==============================] - 5s - loss: 0.1011 - acc: 0.9639 - val_loss: 0.3294 - val_acc: 0.8857\n"
     ]
    },
    {
     "data": {
      "text/plain": [
       "<keras.callbacks.History at 0x7fc75b96def0>"
      ]
     },
     "execution_count": 7,
     "metadata": {},
     "output_type": "execute_result"
    }
   ],
   "source": [
    "def get_callbacks(filepath, patience=2):\n",
    "    es = EarlyStopping('val_loss', patience=patience, mode=\"min\")\n",
    "    msave = ModelCheckpoint(filepath, save_best_only=True)\n",
    "    return [es, msave]\n",
    "file_path = \".model_weights.hdf5\"\n",
    "callbacks = get_callbacks(filepath=file_path, patience=5)\n",
    "\n",
    "model.fit(X_train_cv, y_train_cv, batch_size=100, epochs=25, verbose=1, \n",
    "          validation_data=(X_valid, y_valid),callbacks=callbacks)"
   ]
  },
  {
   "cell_type": "code",
   "execution_count": 9,
   "metadata": {},
   "outputs": [
    {
     "name": "stdout",
     "output_type": "stream",
     "text": [
      "1925/1925 [==============================] - 20s    \n",
      "Test loss: 0.254180503015\n",
      "Test accuracy: 0.883636363636\n"
     ]
    }
   ],
   "source": [
    "model.load_weights(filepath=file_path)\n",
    "score = model.evaluate(X_valid, y_valid, verbose=1)\n",
    "print('Test loss:', score[0])\n",
    "print('Test accuracy:', score[1])"
   ]
  },
  {
   "cell_type": "code",
   "execution_count": 8,
   "metadata": {
    "collapsed": true
   },
   "outputs": [],
   "source": [
    "#test = pd.read_json('../input/test.json')\n",
    "import json\n",
    "with open('../ShipIceberg/Data/test.json', 'r') as f:\n",
    "    test = json.load(f)\n",
    "    test=pd.DataFrame(test)\n",
    "\n",
    "test.inc_angle = test.inc_angle.replace('na',0)\n",
    "test_X = transform(test)\n",
    "pred_test = model.predict(test_X)\n",
    "submission = pd.DataFrame({'id': test[\"id\"], 'is_iceberg': pred_test.reshape((pred_test.shape[0]))})\n",
    "submission.to_csv('iceberg_kaggle.csv', index=False)"
   ]
  }
 ],
 "metadata": {
  "kernelspec": {
   "display_name": "Python 3",
   "language": "python",
   "name": "python3"
  },
  "language_info": {
   "codemirror_mode": {
    "name": "ipython",
    "version": 3
   },
   "file_extension": ".py",
   "mimetype": "text/x-python",
   "name": "python",
   "nbconvert_exporter": "python",
   "pygments_lexer": "ipython3",
   "version": "3.6.1"
  }
 },
 "nbformat": 4,
 "nbformat_minor": 2
}

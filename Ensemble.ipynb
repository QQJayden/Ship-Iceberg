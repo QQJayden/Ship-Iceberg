{
 "cells": [
  {
   "cell_type": "markdown",
   "metadata": {},
   "source": [
    "# Ensemble"
   ]
  },
  {
   "cell_type": "markdown",
   "metadata": {},
   "source": [
    "参考：[Statoil CSV PyTorch SENet ensemble LB 0.1582](https://www.kaggle.com/solomonk/statoil-csv-pytorch-senet-ensemble-lb-0-1582)"
   ]
  },
  {
   "cell_type": "code",
   "execution_count": 4,
   "metadata": {
    "collapsed": true
   },
   "outputs": [],
   "source": [
    "import numpy as np\n",
    "import pandas as pd"
   ]
  },
  {
   "cell_type": "code",
   "execution_count": 1,
   "metadata": {
    "scrolled": false
   },
   "outputs": [
    {
     "name": "stdout",
     "output_type": "stream",
     "text": [
      "7.x\n",
      "ensamble-LB 0.1474.csv\n",
      "ensamble-LB=0.1511.csv\n",
      "ensamble-LB 0.1521.csv\n",
      "ensamble - LB 0.1534.csv\n",
      "ensamble-LB 0.1544.csv\n",
      "ensamble - LB 0.1587.csv\n",
      "ensamble-LB 0.1876.csv\n",
      "predictionsResNet50Layers15-9.1.csv\n",
      "stack_minmax_median-LB 0.1440.csv\n",
      "stack_minmax_median-LB 0.1537.csv\n",
      "subBestBase-LB 0.1442.csv\n",
      "subTLResNet-9.2.csv\n",
      "subTLResNet-9.3.csv\n",
      "subTLResNet-9.4.csv\n",
      "subTLResNet-9.5.csv\n",
      "subTLResNet-9.6.csv\n",
      "subTLResNet-9.7.csv\n",
      "subTLResNet-9.8.csv\n",
      "subTLResNet-9.9.csv\n",
      "subVGG4.27.csv\n",
      "subVGG4.28.csv\n",
      "subVGG4.29.csv\n",
      "subVGG4.30.csv\n",
      "subVGG4.31.csv\n",
      "subVGG4.32.csv\n",
      "subVGG4.33.csv\n",
      "subVGG7.10.csv\n",
      "subVGG7.11.csv\n",
      "subVGG7.12.csv\n",
      "subVGG7.1.csv\n",
      "subVGG7.2.csv\n",
      "subVGG7.3.csv\n",
      "subVGG7.4.csv\n",
      "subVGG7.5.csv\n",
      "subVGG7.6.csv\n",
      "subVGG7.7.csv\n",
      "subVGG7.8.csv\n",
      "subVGG7.9.csv\n",
      "subVGG8.1.csv\n",
      "subVGGMobile-10.1.csv\n",
      "subXception-11.0.csv\n",
      "subXception-11.1.csv\n",
      "\n"
     ]
    }
   ],
   "source": [
    "from subprocess import check_output\n",
    "print(check_output([\"ls\", \"../ShipIceberg/submission\"]).decode(\"utf8\"))"
   ]
  },
  {
   "cell_type": "code",
   "execution_count": 2,
   "metadata": {
    "collapsed": true
   },
   "outputs": [],
   "source": [
    "def ensemble():\n",
    "    stacked_1 = pd.read_csv('../ShipIceberg/submission/' + 'subVGG7.1.csv')\n",
    "    stacked_2 = pd.read_csv('../ShipIceberg/submission/' + 'subVGG7.2.csv')\n",
    "#     stacked_3 = pd.read_csv('../ShipIceberg/submission/' + 'subVGG7.3.csv')\n",
    "#     stacked_4 = pd.read_csv('../ShipIceberg/submission/' + 'subVGG7.4.csv')\n",
    "    stacked_5 = pd.read_csv('../ShipIceberg/submission/' + 'subXception-11.1.csv')\n",
    "#     stacked_6 = pd.read_csv('../ShipIceberg/submission/' + 'subVGG7.6.csv')\n",
    "#     stacked_7 = pd.read_csv('../ShipIceberg/submission/' + 'subVGG7.7.csv')\n",
    "    stacked_8 = pd.read_csv('../ShipIceberg/submission/' + 'subVGG7.8.csv')\n",
    "    stacked_9 = pd.read_csv('../ShipIceberg/submission/' + 'subVGG7.9.csv')\n",
    "    stacked_10 = pd.read_csv('../ShipIceberg/submission/' + 'subTLResNet-9.2.csv')\n",
    "#     stacked_11 = pd.read_csv('../ShipIceberg/submission/' + 'subTLResNet-9.4.csv')\n",
    "    stacked_12 = pd.read_csv('../ShipIceberg/submission/' + 'subTLResNet-9.5.csv')\n",
    "    stacked_13 = pd.read_csv('../ShipIceberg/submission/' + 'subVGGMobile-10.1.csv')\n",
    "    sub = pd.DataFrame()\n",
    "    sub['id'] = stacked_1['id']\n",
    "    sub['is_iceberg'] = np.exp(np.mean(\n",
    "        [\n",
    "            stacked_1['is_iceberg'].apply(lambda x: np.log(x)), \\\n",
    "            stacked_2['is_iceberg'].apply(lambda x: np.log(x)), \\\n",
    "#             stacked_3['is_iceberg'].apply(lambda x: np.log(x)), \\\n",
    "#             stacked_4['is_iceberg'].apply(lambda x: np.log(x)), \\\n",
    "            stacked_5['is_iceberg'].apply(lambda x: np.log(x)), \\\n",
    "#             stacked_6['is_iceberg'].apply(lambda x: np.log(x)), \\\n",
    "#             stacked_7['is_iceberg'].apply(lambda x: np.log(x)), \\\n",
    "            stacked_8['is_iceberg'].apply(lambda x: np.log(x)), \\\n",
    "            stacked_9['is_iceberg'].apply(lambda x: np.log(x)), \\\n",
    "            stacked_10['is_iceberg'].apply(lambda x: np.log(x)), \\\n",
    "#             stacked_11['is_iceberg'].apply(lambda x: np.log(x)), \\\n",
    "            stacked_12['is_iceberg'].apply(lambda x: np.log(x)), \\\n",
    "            stacked_13['is_iceberg'].apply(lambda x: np.log(x)), \\\n",
    "            ], axis=0))\n",
    "    sub.to_csv('ensamble.csv', index=False, float_format='%.6f')"
   ]
  },
  {
   "cell_type": "code",
   "execution_count": 5,
   "metadata": {
    "scrolled": true
   },
   "outputs": [],
   "source": [
    "ensemble()"
   ]
  }
 ],
 "metadata": {
  "kernelspec": {
   "display_name": "Python 3",
   "language": "python",
   "name": "python3"
  },
  "language_info": {
   "codemirror_mode": {
    "name": "ipython",
    "version": 3
   },
   "file_extension": ".py",
   "mimetype": "text/x-python",
   "name": "python",
   "nbconvert_exporter": "python",
   "pygments_lexer": "ipython3",
   "version": "3.6.1"
  }
 },
 "nbformat": 4,
 "nbformat_minor": 2
}
